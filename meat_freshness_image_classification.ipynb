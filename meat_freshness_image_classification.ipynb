{
  "metadata": {
    "kernelspec": {
      "language": "python",
      "display_name": "Python 3",
      "name": "python3"
    },
    "language_info": {
      "pygments_lexer": "ipython3",
      "nbconvert_exporter": "python",
      "version": "3.6.4",
      "file_extension": ".py",
      "codemirror_mode": {
        "name": "ipython",
        "version": 3
      },
      "name": "python",
      "mimetype": "text/x-python"
    },
    "kaggle": {
      "accelerator": "gpu",
      "dataSources": [
        {
          "sourceId": 3878217,
          "sourceType": "datasetVersion",
          "datasetId": 2304742
        }
      ],
      "dockerImageVersionId": 30203,
      "isInternetEnabled": false,
      "language": "python",
      "sourceType": "notebook",
      "isGpuEnabled": true
    },
    "colab": {
      "name": "meat-freshness-image-classification",
      "provenance": [],
      "include_colab_link": true
    }
  },
  "nbformat_minor": 0,
  "nbformat": 4,
  "cells": [
    {
      "cell_type": "markdown",
      "metadata": {
        "id": "view-in-github",
        "colab_type": "text"
      },
      "source": [
        "<a href=\"https://colab.research.google.com/github/hanhduyenng/Portfolio-Projects/blob/main/meat_freshness_image_classification.ipynb\" target=\"_parent\"><img src=\"https://colab.research.google.com/assets/colab-badge.svg\" alt=\"Open In Colab\"/></a>"
      ]
    },
    {
      "source": [
        "\n",
        "# IMPORTANT: RUN THIS CELL IN ORDER TO IMPORT YOUR KAGGLE DATA SOURCES\n",
        "# TO THE CORRECT LOCATION (/kaggle/input) IN YOUR NOTEBOOK,\n",
        "# THEN FEEL FREE TO DELETE THIS CELL.\n",
        "# NOTE: THIS NOTEBOOK ENVIRONMENT DIFFERS FROM KAGGLE'S PYTHON\n",
        "# ENVIRONMENT SO THERE MAY BE MISSING LIBRARIES USED BY YOUR\n",
        "# NOTEBOOK.\n",
        "\n",
        "import os\n",
        "import sys\n",
        "from tempfile import NamedTemporaryFile\n",
        "from urllib.request import urlopen\n",
        "from urllib.parse import unquote, urlparse\n",
        "from urllib.error import HTTPError\n",
        "from zipfile import ZipFile\n",
        "import tarfile\n",
        "import shutil\n",
        "\n",
        "CHUNK_SIZE = 40960\n",
        "DATA_SOURCE_MAPPING = 'meat-freshness-image-dataset:https%3A%2F%2Fstorage.googleapis.com%2Fkaggle-data-sets%2F2304742%2F3878217%2Fbundle%2Farchive.zip%3FX-Goog-Algorithm%3DGOOG4-RSA-SHA256%26X-Goog-Credential%3Dgcp-kaggle-com%2540kaggle-161607.iam.gserviceaccount.com%252F20240609%252Fauto%252Fstorage%252Fgoog4_request%26X-Goog-Date%3D20240609T025526Z%26X-Goog-Expires%3D259200%26X-Goog-SignedHeaders%3Dhost%26X-Goog-Signature%3D62a281ae1cb224c13306bd0e548331818facc21d2369f201b213e852efdeaf46594047ae2319667f9125fcabfbf5a87f003cab2fb05eaaeed1ba638acefbde673d9e68c96bbaf208dd92641a4c43d5c4579ad28342e3f89a6478fd3d531cfaa0fa6ccef3825f63b68cc62eef67e582873d1acc256eb56173a112117ad7e3df371f483e9983d4d8edb8201158f31ec4780be895afaa734f1d68d964501b9bd5742a6471b143beae26547567abdda83476c1f9521d6fea0afe7f265c857923c3de57c692547bad46437651a40d94d580bb4187d9dd254fd011dc86a13903fc3673a69dfa34710e0ded0fbaeb68f84b6f65389eea55301e3bc77a06ed71071520b6'\n",
        "\n",
        "KAGGLE_INPUT_PATH='/kaggle/input'\n",
        "KAGGLE_WORKING_PATH='/kaggle/working'\n",
        "KAGGLE_SYMLINK='kaggle'\n",
        "\n",
        "!umount /kaggle/input/ 2> /dev/null\n",
        "shutil.rmtree('/kaggle/input', ignore_errors=True)\n",
        "os.makedirs(KAGGLE_INPUT_PATH, 0o777, exist_ok=True)\n",
        "os.makedirs(KAGGLE_WORKING_PATH, 0o777, exist_ok=True)\n",
        "\n",
        "try:\n",
        "  os.symlink(KAGGLE_INPUT_PATH, os.path.join(\"..\", 'input'), target_is_directory=True)\n",
        "except FileExistsError:\n",
        "  pass\n",
        "try:\n",
        "  os.symlink(KAGGLE_WORKING_PATH, os.path.join(\"..\", 'working'), target_is_directory=True)\n",
        "except FileExistsError:\n",
        "  pass\n",
        "\n",
        "for data_source_mapping in DATA_SOURCE_MAPPING.split(','):\n",
        "    directory, download_url_encoded = data_source_mapping.split(':')\n",
        "    download_url = unquote(download_url_encoded)\n",
        "    filename = urlparse(download_url).path\n",
        "    destination_path = os.path.join(KAGGLE_INPUT_PATH, directory)\n",
        "    try:\n",
        "        with urlopen(download_url) as fileres, NamedTemporaryFile() as tfile:\n",
        "            total_length = fileres.headers['content-length']\n",
        "            print(f'Downloading {directory}, {total_length} bytes compressed')\n",
        "            dl = 0\n",
        "            data = fileres.read(CHUNK_SIZE)\n",
        "            while len(data) > 0:\n",
        "                dl += len(data)\n",
        "                tfile.write(data)\n",
        "                done = int(50 * dl / int(total_length))\n",
        "                sys.stdout.write(f\"\\r[{'=' * done}{' ' * (50-done)}] {dl} bytes downloaded\")\n",
        "                sys.stdout.flush()\n",
        "                data = fileres.read(CHUNK_SIZE)\n",
        "            if filename.endswith('.zip'):\n",
        "              with ZipFile(tfile) as zfile:\n",
        "                zfile.extractall(destination_path)\n",
        "            else:\n",
        "              with tarfile.open(tfile.name) as tarfile:\n",
        "                tarfile.extractall(destination_path)\n",
        "            print(f'\\nDownloaded and uncompressed: {directory}')\n",
        "    except HTTPError as e:\n",
        "        print(f'Failed to load (likely expired) {download_url} to path {destination_path}')\n",
        "        continue\n",
        "    except OSError as e:\n",
        "        print(f'Failed to load {download_url} to path {destination_path}')\n",
        "        continue\n",
        "\n",
        "print('Data source import complete.')\n"
      ],
      "metadata": {
        "colab": {
          "base_uri": "https://localhost:8080/"
        },
        "id": "-IGOctV27B1A",
        "outputId": "8c23fb91-518e-4241-e7b2-c05df953e47f"
      },
      "cell_type": "code",
      "outputs": [
        {
          "output_type": "stream",
          "name": "stdout",
          "text": [
            "Downloading meat-freshness-image-dataset, 62254533 bytes compressed\n",
            "[==================================================] 62254533 bytes downloaded\n",
            "Downloaded and uncompressed: meat-freshness-image-dataset\n",
            "Data source import complete.\n"
          ]
        }
      ],
      "execution_count": 1
    },
    {
      "cell_type": "code",
      "source": [
        "# importing modules\n",
        "import cv2\n",
        "import numpy as np\n",
        "import os\n",
        "import pandas as pd\n",
        "from tensorflow.keras.utils import to_categorical\n",
        "from tensorflow.keras.models import Sequential\n",
        "from tensorflow.keras import layers\n",
        "from tensorflow.keras.preprocessing.image import ImageDataGenerator\n",
        "from matplotlib import pyplot\n",
        "from sklearn.model_selection import train_test_split\n",
        "from tensorflow.keras.callbacks import EarlyStopping"
      ],
      "metadata": {
        "execution": {
          "iopub.status.busy": "2022-07-10T14:59:47.161719Z",
          "iopub.execute_input": "2022-07-10T14:59:47.162134Z",
          "iopub.status.idle": "2022-07-10T14:59:47.172044Z",
          "shell.execute_reply.started": "2022-07-10T14:59:47.1621Z",
          "shell.execute_reply": "2022-07-10T14:59:47.171208Z"
        },
        "trusted": true,
        "id": "HjIrU1H27B1D"
      },
      "execution_count": 2,
      "outputs": []
    },
    {
      "cell_type": "code",
      "source": [
        "train_x = []\n",
        "train_y = []\n",
        "test_x = []\n",
        "test_y = []"
      ],
      "metadata": {
        "execution": {
          "iopub.status.busy": "2022-07-10T14:59:48.36461Z",
          "iopub.execute_input": "2022-07-10T14:59:48.364942Z",
          "iopub.status.idle": "2022-07-10T14:59:48.369783Z",
          "shell.execute_reply.started": "2022-07-10T14:59:48.364912Z",
          "shell.execute_reply": "2022-07-10T14:59:48.368897Z"
        },
        "trusted": true,
        "id": "GYxNAMjP7B1D"
      },
      "execution_count": 3,
      "outputs": []
    },
    {
      "cell_type": "code",
      "source": [
        "# the class of each image file can be extracted using the file name\n",
        "# to do so, we can split the filename using '-' and take the item in the 0th index\n",
        "\n",
        "file_name = os.listdir('../input/meat-freshness-image-dataset/Meat Freshness.v1-new-dataset.multiclass/train/')\n",
        "names = [i.split('-')[0] for i in file_name]\n",
        "set(names)"
      ],
      "metadata": {
        "execution": {
          "iopub.status.busy": "2022-07-10T14:59:50.383412Z",
          "iopub.execute_input": "2022-07-10T14:59:50.384135Z",
          "iopub.status.idle": "2022-07-10T14:59:50.396737Z",
          "shell.execute_reply.started": "2022-07-10T14:59:50.384097Z",
          "shell.execute_reply": "2022-07-10T14:59:50.395563Z"
        },
        "trusted": true,
        "colab": {
          "base_uri": "https://localhost:8080/"
        },
        "id": "mq2ix0RX7B1E",
        "outputId": "050bb38f-5719-4246-c8e2-96c40433c1fa"
      },
      "execution_count": 4,
      "outputs": [
        {
          "output_type": "execute_result",
          "data": {
            "text/plain": [
              "{'FRESH', 'HALF', 'SPOILED', '_classes.csv'}"
            ]
          },
          "metadata": {},
          "execution_count": 4
        }
      ]
    },
    {
      "cell_type": "code",
      "source": [
        "# performing label encoding\n",
        "class_label_encoding = {\n",
        "    'SPOILED': 0,\n",
        "    'HALF': 1,\n",
        "    'FRESH': 2\n",
        "}"
      ],
      "metadata": {
        "execution": {
          "iopub.status.busy": "2022-07-10T14:59:52.010122Z",
          "iopub.execute_input": "2022-07-10T14:59:52.01079Z",
          "iopub.status.idle": "2022-07-10T14:59:52.017181Z",
          "shell.execute_reply.started": "2022-07-10T14:59:52.010751Z",
          "shell.execute_reply": "2022-07-10T14:59:52.016089Z"
        },
        "trusted": true,
        "id": "w1H6sSMD7B1E"
      },
      "execution_count": 5,
      "outputs": []
    },
    {
      "cell_type": "code",
      "source": [
        "train_dir = '../input/meat-freshness-image-dataset/Meat Freshness.v1-new-dataset.multiclass/train/'\n",
        "\n",
        "for file_name in os.listdir(train_dir):\n",
        "    class_name = file_name.split('-')[0]\n",
        "    if(class_name == '_classes.csv'): continue # ignore the csv file\n",
        "    img = cv2.imread(train_dir+file_name).astype('float32') # read the image\n",
        "    img = cv2.cvtColor(img, cv2.COLOR_BGR2RGB) # convert to rgb format\n",
        "    img = cv2.resize(img, (128, 128), interpolation=cv2.INTER_AREA) # resize the image\n",
        "    img /= 255. # normalising pixel values\n",
        "    train_x.append(img)\n",
        "    train_y.append(class_label_encoding[class_name])"
      ],
      "metadata": {
        "execution": {
          "iopub.status.busy": "2022-07-10T14:59:52.979669Z",
          "iopub.execute_input": "2022-07-10T14:59:52.980642Z",
          "iopub.status.idle": "2022-07-10T15:00:01.169505Z",
          "shell.execute_reply.started": "2022-07-10T14:59:52.980594Z",
          "shell.execute_reply": "2022-07-10T15:00:01.168505Z"
        },
        "trusted": true,
        "id": "g7nK7hvN7B1F"
      },
      "execution_count": 6,
      "outputs": []
    },
    {
      "cell_type": "code",
      "source": [
        "val_dir = '../input/meat-freshness-image-dataset/Meat Freshness.v1-new-dataset.multiclass/valid/'\n",
        "\n",
        "for file_name in os.listdir(val_dir):\n",
        "    class_name = file_name.split('-')[0]\n",
        "    if(class_name == '_classes.csv'): continue # ignore the csv file\n",
        "    img = cv2.imread(val_dir+file_name).astype('float32') # read the colour image\n",
        "    img = cv2.cvtColor(img, cv2.COLOR_BGR2RGB) # convert to rgb format\n",
        "    img = cv2.resize(img, (128, 128), interpolation=cv2.INTER_AREA) # resize the image\n",
        "    img /= 255. # normalising pixel values\n",
        "    test_x.append(img)\n",
        "    test_y.append(class_label_encoding[class_name])"
      ],
      "metadata": {
        "execution": {
          "iopub.status.busy": "2022-07-10T15:00:01.172001Z",
          "iopub.execute_input": "2022-07-10T15:00:01.172391Z",
          "iopub.status.idle": "2022-07-10T15:00:03.491155Z",
          "shell.execute_reply.started": "2022-07-10T15:00:01.172352Z",
          "shell.execute_reply": "2022-07-10T15:00:03.490196Z"
        },
        "trusted": true,
        "id": "eaoQAObm7B1G"
      },
      "execution_count": 7,
      "outputs": []
    },
    {
      "cell_type": "code",
      "source": [
        "print('shape of train x:', end=' ')\n",
        "print(np.asarray(train_x).shape)\n",
        "print('len of train y: '+ str(len(train_y)))\n",
        "\n",
        "print('shape of test x:', end=' ')\n",
        "print(np.asarray(test_x).shape)\n",
        "\n",
        "print('len of test y: '+ str(len(test_y)))"
      ],
      "metadata": {
        "execution": {
          "iopub.status.busy": "2022-07-10T15:00:03.492516Z",
          "iopub.execute_input": "2022-07-10T15:00:03.492908Z",
          "iopub.status.idle": "2022-07-10T15:00:03.630922Z",
          "shell.execute_reply.started": "2022-07-10T15:00:03.492872Z",
          "shell.execute_reply": "2022-07-10T15:00:03.629827Z"
        },
        "trusted": true,
        "colab": {
          "base_uri": "https://localhost:8080/"
        },
        "id": "aqN3kSOb7B1G",
        "outputId": "0e73279b-30dd-4173-ab1c-2f3a81bcdf1e"
      },
      "execution_count": 8,
      "outputs": [
        {
          "output_type": "stream",
          "name": "stdout",
          "text": [
            "shape of train x: (1815, 128, 128, 3)\n",
            "len of train y: 1815\n",
            "shape of test x: (451, 128, 128, 3)\n",
            "len of test y: 451\n"
          ]
        }
      ]
    },
    {
      "cell_type": "code",
      "source": [
        "# let's look at the class distribution\n",
        "print('Train distribution')\n",
        "print(pd.Series(train_y).value_counts())\n",
        "\n",
        "print('Test distribution')\n",
        "pd.Series(test_y).value_counts()"
      ],
      "metadata": {
        "execution": {
          "iopub.status.busy": "2022-07-10T15:00:03.633704Z",
          "iopub.execute_input": "2022-07-10T15:00:03.634708Z",
          "iopub.status.idle": "2022-07-10T15:00:03.647978Z",
          "shell.execute_reply.started": "2022-07-10T15:00:03.634667Z",
          "shell.execute_reply": "2022-07-10T15:00:03.646888Z"
        },
        "trusted": true,
        "colab": {
          "base_uri": "https://localhost:8080/"
        },
        "id": "qINp9ZSt7B1H",
        "outputId": "47af0c2a-8f70-44af-bcc5-95bb64849f89"
      },
      "execution_count": 9,
      "outputs": [
        {
          "output_type": "stream",
          "name": "stdout",
          "text": [
            "Train distribution\n",
            "2    675\n",
            "1    630\n",
            "0    510\n",
            "Name: count, dtype: int64\n",
            "Test distribution\n"
          ]
        },
        {
          "output_type": "execute_result",
          "data": {
            "text/plain": [
              "2    178\n",
              "1    159\n",
              "0    114\n",
              "Name: count, dtype: int64"
            ]
          },
          "metadata": {},
          "execution_count": 9
        }
      ]
    },
    {
      "cell_type": "code",
      "source": [
        "# performing train test split with stratify enabled to maintain the class distribution\n",
        "x_train, x_val, y_train, y_val = train_test_split(train_x, train_y, test_size=0.3, random_state=42, stratify=train_y)\n",
        "\n",
        "# free up memory\n",
        "del train_x\n",
        "del train_y"
      ],
      "metadata": {
        "execution": {
          "iopub.status.busy": "2022-07-10T15:00:03.649661Z",
          "iopub.execute_input": "2022-07-10T15:00:03.650078Z",
          "iopub.status.idle": "2022-07-10T15:00:03.659894Z",
          "shell.execute_reply.started": "2022-07-10T15:00:03.650043Z",
          "shell.execute_reply": "2022-07-10T15:00:03.658727Z"
        },
        "trusted": true,
        "id": "8cbyk8u_7B1H"
      },
      "execution_count": 10,
      "outputs": []
    },
    {
      "cell_type": "code",
      "source": [
        "# performing one hot encoding and concerting list to numpy array before training\n",
        "x_train = np.array(x_train)\n",
        "x_val = np.array(x_val)\n",
        "y_train = to_categorical(y_train)\n",
        "y_val = to_categorical(y_val)"
      ],
      "metadata": {
        "execution": {
          "iopub.status.busy": "2022-07-10T15:00:03.661634Z",
          "iopub.execute_input": "2022-07-10T15:00:03.662048Z",
          "iopub.status.idle": "2022-07-10T15:00:03.777556Z",
          "shell.execute_reply.started": "2022-07-10T15:00:03.662013Z",
          "shell.execute_reply": "2022-07-10T15:00:03.776553Z"
        },
        "trusted": true,
        "id": "D6i5ftQ-7B1H"
      },
      "execution_count": 11,
      "outputs": []
    },
    {
      "cell_type": "code",
      "source": [
        "model = Sequential()\n",
        "\n",
        "model.add(layers.Conv2D(32,(3,3),activation='relu',input_shape=(128,128,3))) # each image shape - 416x416x3\n",
        "model.add(layers.Conv2D(64,(3,3),activation='relu'))\n",
        "model.add(layers.MaxPooling2D())\n",
        "\n",
        "model.add(layers.Conv2D(64,(3,3),activation='relu'))\n",
        "model.add(layers.Conv2D(128,(3,3),activation='relu'))\n",
        "model.add(layers.MaxPooling2D())\n",
        "\n",
        "model.add(layers.Dropout(0.25))\n",
        "\n",
        "model.add(layers.Flatten())\n",
        "\n",
        "model.add(layers.Dense(512,activation='relu'))\n",
        "model.add(layers.Dropout(0.4))\n",
        "model.add(layers.Dense(128,activation='relu'))\n",
        "model.add(layers.Dropout(0.2))\n",
        "model.add(layers.Dense(3,'softmax')) # 3 classes\n",
        "\n",
        "model.compile('Adam','categorical_crossentropy',['accuracy'])\n",
        "\n",
        "print(model.summary())"
      ],
      "metadata": {
        "execution": {
          "iopub.status.busy": "2022-07-10T15:00:03.778924Z",
          "iopub.execute_input": "2022-07-10T15:00:03.779287Z",
          "iopub.status.idle": "2022-07-10T15:00:03.862819Z",
          "shell.execute_reply.started": "2022-07-10T15:00:03.779251Z",
          "shell.execute_reply": "2022-07-10T15:00:03.861657Z"
        },
        "trusted": true,
        "colab": {
          "base_uri": "https://localhost:8080/"
        },
        "id": "6-1AYaVA7B1H",
        "outputId": "8e652731-4e2a-481b-eff9-65704c6b7771"
      },
      "execution_count": 12,
      "outputs": [
        {
          "output_type": "stream",
          "name": "stdout",
          "text": [
            "Model: \"sequential\"\n",
            "_________________________________________________________________\n",
            " Layer (type)                Output Shape              Param #   \n",
            "=================================================================\n",
            " conv2d (Conv2D)             (None, 126, 126, 32)      896       \n",
            "                                                                 \n",
            " conv2d_1 (Conv2D)           (None, 124, 124, 64)      18496     \n",
            "                                                                 \n",
            " max_pooling2d (MaxPooling2  (None, 62, 62, 64)        0         \n",
            " D)                                                              \n",
            "                                                                 \n",
            " conv2d_2 (Conv2D)           (None, 60, 60, 64)        36928     \n",
            "                                                                 \n",
            " conv2d_3 (Conv2D)           (None, 58, 58, 128)       73856     \n",
            "                                                                 \n",
            " max_pooling2d_1 (MaxPoolin  (None, 29, 29, 128)       0         \n",
            " g2D)                                                            \n",
            "                                                                 \n",
            " dropout (Dropout)           (None, 29, 29, 128)       0         \n",
            "                                                                 \n",
            " flatten (Flatten)           (None, 107648)            0         \n",
            "                                                                 \n",
            " dense (Dense)               (None, 512)               55116288  \n",
            "                                                                 \n",
            " dropout_1 (Dropout)         (None, 512)               0         \n",
            "                                                                 \n",
            " dense_1 (Dense)             (None, 128)               65664     \n",
            "                                                                 \n",
            " dropout_2 (Dropout)         (None, 128)               0         \n",
            "                                                                 \n",
            " dense_2 (Dense)             (None, 3)                 387       \n",
            "                                                                 \n",
            "=================================================================\n",
            "Total params: 55312515 (211.00 MB)\n",
            "Trainable params: 55312515 (211.00 MB)\n",
            "Non-trainable params: 0 (0.00 Byte)\n",
            "_________________________________________________________________\n",
            "None\n"
          ]
        }
      ]
    },
    {
      "cell_type": "code",
      "source": [
        "# perform data augmentation\n",
        "data_generator = ImageDataGenerator(rotation_range=15, zoom_range=0.1, vertical_flip=True, width_shift_range=0.1, height_shift_range=0.1)"
      ],
      "metadata": {
        "execution": {
          "iopub.status.busy": "2022-07-10T15:00:03.864133Z",
          "iopub.execute_input": "2022-07-10T15:00:03.864597Z",
          "iopub.status.idle": "2022-07-10T15:00:03.870266Z",
          "shell.execute_reply.started": "2022-07-10T15:00:03.864558Z",
          "shell.execute_reply": "2022-07-10T15:00:03.869199Z"
        },
        "trusted": true,
        "id": "SpnEWpwq7B1I"
      },
      "execution_count": 13,
      "outputs": []
    },
    {
      "cell_type": "code",
      "source": [
        "# history = model.fit(x_train, y_train, validation_data=(x_val, y_val), batch_size=128, epochs=25)\n",
        "history = model.fit(data_generator.flow(x_train,y_train,batch_size=128),validation_data=data_generator.flow(x_val, y_val, batch_size=32),epochs=100,callbacks=[EarlyStopping(patience=8,restore_best_weights=True)])"
      ],
      "metadata": {
        "execution": {
          "iopub.status.busy": "2022-07-10T15:00:03.871735Z",
          "iopub.execute_input": "2022-07-10T15:00:03.87291Z",
          "iopub.status.idle": "2022-07-10T15:12:30.402786Z",
          "shell.execute_reply.started": "2022-07-10T15:00:03.872873Z",
          "shell.execute_reply": "2022-07-10T15:12:30.401778Z"
        },
        "trusted": true,
        "colab": {
          "base_uri": "https://localhost:8080/"
        },
        "id": "BLj90ICT7B1I",
        "outputId": "027e238b-bdd5-4463-f48e-4d2d836c491e"
      },
      "execution_count": null,
      "outputs": [
        {
          "output_type": "stream",
          "name": "stdout",
          "text": [
            "Epoch 1/100\n",
            "10/10 [==============================] - 244s 24s/step - loss: 1.6186 - accuracy: 0.3480 - val_loss: 1.1044 - val_accuracy: 0.2807\n",
            "Epoch 2/100\n",
            "10/10 [==============================] - 236s 24s/step - loss: 1.0353 - accuracy: 0.4441 - val_loss: 0.9217 - val_accuracy: 0.6073\n",
            "Epoch 3/100\n",
            "10/10 [==============================] - 236s 24s/step - loss: 0.9184 - accuracy: 0.5598 - val_loss: 1.1556 - val_accuracy: 0.3872\n",
            "Epoch 4/100\n",
            "10/10 [==============================] - 237s 24s/step - loss: 0.9961 - accuracy: 0.5110 - val_loss: 0.8900 - val_accuracy: 0.5505\n",
            "Epoch 5/100\n",
            "10/10 [==============================] - 251s 26s/step - loss: 0.7662 - accuracy: 0.6315 - val_loss: 0.6400 - val_accuracy: 0.6991\n",
            "Epoch 6/100\n",
            "10/10 [==============================] - 252s 26s/step - loss: 0.6722 - accuracy: 0.7047 - val_loss: 0.6118 - val_accuracy: 0.7083\n",
            "Epoch 7/100\n",
            "10/10 [==============================] - 251s 25s/step - loss: 0.6194 - accuracy: 0.7157 - val_loss: 0.5258 - val_accuracy: 0.7725\n",
            "Epoch 8/100\n",
            "10/10 [==============================] - 252s 26s/step - loss: 0.5778 - accuracy: 0.7433 - val_loss: 0.4632 - val_accuracy: 0.7872\n",
            "Epoch 9/100\n",
            "10/10 [==============================] - 235s 24s/step - loss: 0.6604 - accuracy: 0.6929 - val_loss: 0.6169 - val_accuracy: 0.7578\n",
            "Epoch 10/100\n",
            "10/10 [==============================] - 233s 24s/step - loss: 0.5731 - accuracy: 0.7402 - val_loss: 0.4739 - val_accuracy: 0.7835\n",
            "Epoch 11/100\n",
            "10/10 [==============================] - 234s 23s/step - loss: 0.4857 - accuracy: 0.7984 - val_loss: 0.4221 - val_accuracy: 0.8147\n",
            "Epoch 12/100\n",
            "10/10 [==============================] - 233s 23s/step - loss: 0.4222 - accuracy: 0.8173 - val_loss: 0.3770 - val_accuracy: 0.8294\n",
            "Epoch 13/100\n",
            "10/10 [==============================] - 237s 24s/step - loss: 0.4872 - accuracy: 0.7843 - val_loss: 0.4153 - val_accuracy: 0.8165\n",
            "Epoch 14/100\n",
            "10/10 [==============================] - 253s 25s/step - loss: 0.4090 - accuracy: 0.8331 - val_loss: 0.4165 - val_accuracy: 0.8147\n",
            "Epoch 15/100\n",
            "10/10 [==============================] - 233s 23s/step - loss: 0.3895 - accuracy: 0.8417 - val_loss: 0.3822 - val_accuracy: 0.8330\n",
            "Epoch 16/100\n",
            "10/10 [==============================] - 241s 24s/step - loss: 0.3633 - accuracy: 0.8535 - val_loss: 0.3131 - val_accuracy: 0.8679\n",
            "Epoch 17/100\n",
            "10/10 [==============================] - 234s 24s/step - loss: 0.4026 - accuracy: 0.8354 - val_loss: 0.3337 - val_accuracy: 0.8862\n",
            "Epoch 18/100\n",
            "10/10 [==============================] - 239s 24s/step - loss: 0.3597 - accuracy: 0.8535 - val_loss: 0.3981 - val_accuracy: 0.8294\n",
            "Epoch 19/100\n",
            "10/10 [==============================] - 236s 23s/step - loss: 0.3044 - accuracy: 0.8717 - val_loss: 0.3650 - val_accuracy: 0.8440\n",
            "Epoch 20/100\n",
            "10/10 [==============================] - 250s 25s/step - loss: 0.3624 - accuracy: 0.8480 - val_loss: 0.3078 - val_accuracy: 0.8716\n",
            "Epoch 21/100\n",
            "10/10 [==============================] - 241s 24s/step - loss: 0.3363 - accuracy: 0.8709 - val_loss: 0.3138 - val_accuracy: 0.8752\n",
            "Epoch 22/100\n",
            "10/10 [==============================] - 236s 24s/step - loss: 0.2901 - accuracy: 0.8803 - val_loss: 0.2675 - val_accuracy: 0.8936\n",
            "Epoch 23/100\n",
            "10/10 [==============================] - 241s 24s/step - loss: 0.2766 - accuracy: 0.8921 - val_loss: 0.2669 - val_accuracy: 0.8936\n",
            "Epoch 24/100\n",
            "10/10 [==============================] - 235s 23s/step - loss: 0.2216 - accuracy: 0.9118 - val_loss: 0.2276 - val_accuracy: 0.8936\n",
            "Epoch 25/100\n",
            "10/10 [==============================] - 232s 23s/step - loss: 0.1891 - accuracy: 0.9173 - val_loss: 0.2490 - val_accuracy: 0.8936\n",
            "Epoch 26/100\n",
            "10/10 [==============================] - 241s 24s/step - loss: 0.2006 - accuracy: 0.9213 - val_loss: 0.3621 - val_accuracy: 0.8606\n",
            "Epoch 27/100\n",
            "10/10 [==============================] - 234s 24s/step - loss: 0.2274 - accuracy: 0.9071 - val_loss: 0.2450 - val_accuracy: 0.8881\n",
            "Epoch 28/100\n",
            "10/10 [==============================] - 233s 23s/step - loss: 0.2423 - accuracy: 0.8945 - val_loss: 0.2348 - val_accuracy: 0.9064\n",
            "Epoch 29/100\n",
            "10/10 [==============================] - 238s 24s/step - loss: 0.2006 - accuracy: 0.9150 - val_loss: 0.2243 - val_accuracy: 0.9119\n",
            "Epoch 30/100\n",
            "10/10 [==============================] - 232s 23s/step - loss: 0.2141 - accuracy: 0.9094 - val_loss: 0.2160 - val_accuracy: 0.9193\n",
            "Epoch 31/100\n",
            "10/10 [==============================] - 240s 24s/step - loss: 0.1958 - accuracy: 0.9197 - val_loss: 0.1931 - val_accuracy: 0.9064\n",
            "Epoch 32/100\n",
            "10/10 [==============================] - 235s 24s/step - loss: 0.1816 - accuracy: 0.9276 - val_loss: 0.2440 - val_accuracy: 0.9028\n",
            "Epoch 33/100\n",
            "10/10 [==============================] - 233s 23s/step - loss: 0.1826 - accuracy: 0.9339 - val_loss: 0.1829 - val_accuracy: 0.9266\n",
            "Epoch 34/100\n",
            "10/10 [==============================] - 240s 24s/step - loss: 0.1658 - accuracy: 0.9370 - val_loss: 0.1793 - val_accuracy: 0.9303\n",
            "Epoch 35/100\n",
            "10/10 [==============================] - 229s 23s/step - loss: 0.1614 - accuracy: 0.9378 - val_loss: 0.1936 - val_accuracy: 0.9174\n",
            "Epoch 36/100\n",
            "10/10 [==============================] - 232s 23s/step - loss: 0.1548 - accuracy: 0.9449 - val_loss: 0.2561 - val_accuracy: 0.8954\n",
            "Epoch 37/100\n",
            "10/10 [==============================] - 233s 24s/step - loss: 0.1834 - accuracy: 0.9244 - val_loss: 0.2641 - val_accuracy: 0.8954\n",
            "Epoch 38/100\n",
            "10/10 [==============================] - 234s 23s/step - loss: 0.1620 - accuracy: 0.9346 - val_loss: 0.1831 - val_accuracy: 0.9303\n",
            "Epoch 39/100\n",
            "10/10 [==============================] - 230s 23s/step - loss: 0.1495 - accuracy: 0.9417 - val_loss: 0.2272 - val_accuracy: 0.9229\n",
            "Epoch 40/100\n",
            "10/10 [==============================] - 235s 24s/step - loss: 0.1651 - accuracy: 0.9331 - val_loss: 0.1608 - val_accuracy: 0.9303\n",
            "Epoch 41/100\n",
            "10/10 [==============================] - 249s 25s/step - loss: 0.1632 - accuracy: 0.9362 - val_loss: 0.1552 - val_accuracy: 0.9486\n",
            "Epoch 42/100\n",
            " 3/10 [========>.....................] - ETA: 2:27 - loss: 0.0927 - accuracy: 0.9740"
          ]
        }
      ]
    },
    {
      "cell_type": "code",
      "source": [
        "pyplot.plot(history.history['accuracy'], label='train')\n",
        "pyplot.plot(history.history['val_accuracy'], label='test')\n",
        "pyplot.plot(history.history['loss'], label='train_loss')\n",
        "pyplot.plot(history.history['val_loss'], label='test_loss')\n",
        "pyplot.legend()\n",
        "pyplot.show()"
      ],
      "metadata": {
        "execution": {
          "iopub.status.busy": "2022-07-10T15:12:30.4064Z",
          "iopub.execute_input": "2022-07-10T15:12:30.406838Z",
          "iopub.status.idle": "2022-07-10T15:12:30.639415Z",
          "shell.execute_reply.started": "2022-07-10T15:12:30.406805Z",
          "shell.execute_reply": "2022-07-10T15:12:30.632596Z"
        },
        "trusted": true,
        "id": "hLjWJMcG7B1I"
      },
      "execution_count": null,
      "outputs": []
    },
    {
      "cell_type": "code",
      "source": [
        "loss, acc = model.evaluate(np.array(test_x), to_categorical(test_y))\n",
        "print('Testing accuracy on unseen data:', round(acc*100,3))\n",
        "print('Testing loss on unseen data:', round(loss,3))"
      ],
      "metadata": {
        "execution": {
          "iopub.status.busy": "2022-07-10T15:13:25.409748Z",
          "iopub.execute_input": "2022-07-10T15:13:25.410222Z",
          "iopub.status.idle": "2022-07-10T15:13:26.012266Z",
          "shell.execute_reply.started": "2022-07-10T15:13:25.410177Z",
          "shell.execute_reply": "2022-07-10T15:13:26.011327Z"
        },
        "trusted": true,
        "id": "j_OP3qNl7B1I"
      },
      "execution_count": null,
      "outputs": []
    },
    {
      "cell_type": "code",
      "source": [
        "model.save('trained_model.h5')"
      ],
      "metadata": {
        "execution": {
          "iopub.status.busy": "2022-07-10T15:15:17.610789Z",
          "iopub.execute_input": "2022-07-10T15:15:17.611139Z",
          "iopub.status.idle": "2022-07-10T15:15:18.881738Z",
          "shell.execute_reply.started": "2022-07-10T15:15:17.611107Z",
          "shell.execute_reply": "2022-07-10T15:15:18.880769Z"
        },
        "trusted": true,
        "id": "70NarRbY7B1I"
      },
      "execution_count": null,
      "outputs": []
    }
  ]
}